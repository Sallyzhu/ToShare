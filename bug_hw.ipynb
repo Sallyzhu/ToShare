{
 "cells": [
  {
   "cell_type": "code",
   "execution_count": 5,
   "metadata": {},
   "outputs": [],
   "source": [
    "# Bug 2\n",
    "\n",
    "# Imports\n",
    "import matplotlib.pyplot as plt\n",
    "\n",
    "# Globals\n",
    "area_width = -1\n",
    "area_height = -1\n",
    "bug_x = -1\n",
    "bug_x_rollover = 0.0\n",
    "bug_y = -1\n",
    "bug_y_rollover = 0.0\n",
    "goal_x = -1\n",
    "goal_y = -1\n",
    "obstacle_list = []\n",
    "trajectory_list = []\n",
    "bug_path_history = []\n",
    "\n",
    "# Functions\n",
    "def initialize_area(w=100, h=100, bx=0, by=0, gx=100, gy=100):\n",
    "    global area_width \n",
    "    area_width = w\n",
    "    global area_height\n",
    "    area_height = h\n",
    "    global bug_x\n",
    "    bug_x = bx\n",
    "    global bug_y\n",
    "    bug_y = by\n",
    "    global goal_x\n",
    "    goal_x = gx\n",
    "    global goal_y\n",
    "    goal_y = gy\n",
    "    bug_path_history.append([bug_x,bug_y])\n",
    "\n",
    "def create_obstacle(x, y, w, h):\n",
    "    obstacle_tmp = [x, y, w, h]\n",
    "    obstacle_list.append(obstacle_tmp)\n",
    "\n",
    "def get_trajectory():\n",
    "    global trajectory_list\n",
    "    trajectory_list = []\n",
    "    slope = 0.0\n",
    "    counter = 0.0\n",
    "    bug_planner_x = bug_x\n",
    "    bug_planner_y = bug_y\n",
    "    x_diff = goal_x - bug_x\n",
    "    y_diff = goal_y - bug_y\n",
    "    if(x_diff > y_diff):\n",
    "        slope = y_diff / x_diff\n",
    "        while ((bug_planner_x != goal_x) or (bug_planner_y != goal_y)):\n",
    "            if(bug_planner_x != goal_x): bug_planner_x += 1\n",
    "            counter += slope\n",
    "            if(counter >= 1):\n",
    "                bug_planner_y += int(counter/1)\n",
    "                counter = counter%1\n",
    "            #print(bug_planner_x, ', ', bug_planner_y, ' -- ', counter)\n",
    "            trajectory_list.append([bug_planner_x, bug_planner_y])\n",
    "    else:\n",
    "        slope = x_diff / y_diff\n",
    "        while ((bug_planner_x != goal_x) or (bug_planner_y != goal_y)):\n",
    "            if(bug_planner_y != goal_y): bug_planner_y += 1\n",
    "            counter += slope\n",
    "            if(counter >= 1):\n",
    "                bug_planner_x += int(counter/1)\n",
    "                counter = counter%1\n",
    "            #print(bug_planner_x, ', ', bug_planner_y, ' -- ', counter)\n",
    "            trajectory_list.append([bug_planner_x, bug_planner_y])\n",
    "\n",
    "# Is Bug currently touching an obsticle\n",
    "def curr_collision():\n",
    "    collision = -1\n",
    "    rtn = -1\n",
    "    for e in obstacle_list:\n",
    "        collision += 1\n",
    "        if(((bug_x >= e[0]) and (bug_x <= e[0]+e[2])) and ((bug_y >= e[1]) and (bug_y <= e[1]+e[3]))):\n",
    "            rtn = collision\n",
    "    return rtn\n",
    "\n",
    "def follow_collision():\n",
    "    global bug_x\n",
    "    global bug_y\n",
    "    index = curr_collision()\n",
    "    if(index != -1):\n",
    "        x_l_edge = (bug_x == obstacle_list[index][0])\n",
    "        y_t_edge = (bug_y == obstacle_list[index][1])\n",
    "        x_r_edge = (bug_x == obstacle_list[index][0] + obstacle_list[index][2])\n",
    "        y_b_edge = (bug_y == obstacle_list[index][1] + obstacle_list[index][3])\n",
    "        if((not x_r_edge) and (y_b_edge)):\n",
    "            bug_x += 1\n",
    "        elif((x_r_edge) and (not y_t_edge)):\n",
    "            bug_y -= 1\n",
    "        elif((not x_l_edge) and (y_t_edge)):\n",
    "            bug_x -= 1\n",
    "        elif((x_l_edge) and (not y_b_edge)):\n",
    "            bug_y += 1\n",
    "        else:        \n",
    "            print('___ERR: NO ORITENTAION')\n",
    "    else:\n",
    "        print('___ERR: NO COLLISION')\n",
    "\n",
    "# Can Bug escape the object with the next move if it moves towards the goal?\n",
    "def is_free(obstacle_index):\n",
    "    return ((trajectory_list[0][1] < obstacle_list[obstacle_index][1]) or (trajectory_list[0][1] > obstacle_list[obstacle_index][1] + obstacle_list[obstacle_index][3]) or (trajectory_list[0][0] < obstacle_list[obstacle_index][0]) or (trajectory_list[0][0] > obstacle_list[obstacle_index][0] + obstacle_list[obstacle_index][2]))\n",
    "\n",
    "def update_bug():\n",
    "    global bug_x\n",
    "    global bug_y\n",
    "    cur_col = curr_collision()\n",
    "    if(cur_col != -1):\n",
    "        get_trajectory()\n",
    "        if(is_free(cur_col)):\n",
    "            bug_x = trajectory_list[0][0]\n",
    "            bug_y = trajectory_list[0][1]\n",
    "            trajectory_list.pop(0)\n",
    "        else:\n",
    "            follow_collision()\n",
    "    else:\n",
    "        bug_x = trajectory_list[0][0]\n",
    "        bug_y = trajectory_list[0][1]\n",
    "        trajectory_list.pop(0)\n",
    "    bug_path_history.append([bug_x,bug_y])\n",
    "    #print(bug_x,', ',bug_y)"
   ]
  },
  {
   "cell_type": "code",
   "execution_count": 6,
   "metadata": {},
   "outputs": [],
   "source": [
    "# Create Enviornment\n",
    "initialize_area(w=30, h=30, bx=0, by=0, gx=30, gy=25)\n",
    "get_trajectory()\n",
    "create_obstacle(1, 3, 10, 10)\n",
    "create_obstacle(13, 13, 2, 2)\n",
    "create_obstacle(17, 22, 10, 7)"
   ]
  },
  {
   "cell_type": "code",
   "execution_count": 7,
   "metadata": {},
   "outputs": [
    {
     "name": "stdout",
     "output_type": "stream",
     "text": [
      "Search Done!\n"
     ]
    }
   ],
   "source": [
    "# Run Search\n",
    "while((bug_x != goal_x) or (bug_y != goal_y)):\n",
    "    update_bug()\n",
    "print(\"Search Done!\")"
   ]
  },
  {
   "cell_type": "code",
   "execution_count": 8,
   "metadata": {},
   "outputs": [
    {
     "data": {
      "image/png": "[encoded data removed]",
      "text/plain": [
       "<Figure size 432x288 with 1 Axes>"
      ]
     },
     "metadata": {
      "needs_background": "light"
     },
     "output_type": "display_data"
    }
   ],
   "source": [
    "la = [x for x,y in bug_path_history]\n",
    "lb = [y for x,y in bug_path_history]\n",
    "for e in obstacle_list:\n",
    "    tmp = plt.Rectangle((e[0],e[1]), e[2], e[3], fc='gray')\n",
    "    plt.gca().add_patch(tmp)\n",
    "plt.plot(la,lb)\n",
    "plt.ylabel('path of bug')\n",
    "plt.show()"
   ]
  },
  {
   "cell_type": "code",
   "execution_count": null,
   "metadata": {},
   "outputs": [],
   "source": []
  }
 ],
 "metadata": {
  "kernelspec": {
   "display_name": "Python 3.9.12 ('base')",
   "language": "python",
   "name": "python3"
  },
  "language_info": {
   "codemirror_mode": {
    "name": "ipython",
    "version": 3
   },
   "file_extension": ".py",
   "mimetype": "text/x-python",
   "name": "python",
   "nbconvert_exporter": "python",
   "pygments_lexer": "ipython3",
   "version": "3.9.12"
  },
  "orig_nbformat": 4,
  "vscode": {
   "interpreter": {
    "hash": "36ab7f9348c7d0662a1965af503f4376fbff05df74ea3a3ead8d3abcf8650cb8"
   }
  }
 },
 "nbformat": 4,
 "nbformat_minor": 2
}
